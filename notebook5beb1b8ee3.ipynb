{
 "cells": [
  {
   "cell_type": "code",
   "execution_count": 1,
   "id": "6f484117",
   "metadata": {
    "_cell_guid": "b1076dfc-b9ad-4769-8c92-a6c4dae69d19",
    "_uuid": "8f2839f25d086af736a60e9eeb907d3b93b6e0e5",
    "execution": {
     "iopub.execute_input": "2022-08-14T07:54:44.030157Z",
     "iopub.status.busy": "2022-08-14T07:54:44.029448Z",
     "iopub.status.idle": "2022-08-14T07:54:44.047143Z",
     "shell.execute_reply": "2022-08-14T07:54:44.045937Z"
    },
    "papermill": {
     "duration": 0.027511,
     "end_time": "2022-08-14T07:54:44.049518",
     "exception": false,
     "start_time": "2022-08-14T07:54:44.022007",
     "status": "completed"
    },
    "tags": []
   },
   "outputs": [
    {
     "name": "stdout",
     "output_type": "stream",
     "text": [
      "/kaggle/input/random-linear-regression/train.csv\n",
      "/kaggle/input/random-linear-regression/test.csv\n"
     ]
    }
   ],
   "source": [
    "# This Python 3 environment comes with many helpful analytics libraries installed\n",
    "# It is defined by the kaggle/python Docker image: https://github.com/kaggle/docker-python\n",
    "# For example, here's several helpful packages to load\n",
    "\n",
    "import numpy as np # linear algebra\n",
    "import pandas as pd # data processing, CSV file I/O (e.g. pd.read_csv)\n",
    "\n",
    "# Input data files are available in the read-only \"../input/\" directory\n",
    "# For example, running this (by clicking run or pressing Shift+Enter) will list all files under the input directory\n",
    "\n",
    "import os\n",
    "for dirname, _, filenames in os.walk('/kaggle/input'):\n",
    "    for filename in filenames:\n",
    "        print(os.path.join(dirname, filename))\n",
    "\n",
    "# You can write up to 20GB to the current directory (/kaggle/working/) that gets preserved as output when you create a version using \"Save & Run All\" \n",
    "# You can also write temporary files to /kaggle/temp/, but they won't be saved outside of the current session"
   ]
  },
  {
   "cell_type": "code",
   "execution_count": 2,
   "id": "29518f3e",
   "metadata": {
    "execution": {
     "iopub.execute_input": "2022-08-14T07:54:44.060923Z",
     "iopub.status.busy": "2022-08-14T07:54:44.060254Z",
     "iopub.status.idle": "2022-08-14T07:54:44.071866Z",
     "shell.execute_reply": "2022-08-14T07:54:44.071005Z"
    },
    "papermill": {
     "duration": 0.019447,
     "end_time": "2022-08-14T07:54:44.074027",
     "exception": false,
     "start_time": "2022-08-14T07:54:44.054580",
     "status": "completed"
    },
    "tags": []
   },
   "outputs": [],
   "source": [
    "raw_df = pd.read_csv('/kaggle/input/random-linear-regression/train.csv')"
   ]
  },
  {
   "cell_type": "code",
   "execution_count": 3,
   "id": "91144482",
   "metadata": {
    "execution": {
     "iopub.execute_input": "2022-08-14T07:54:44.085010Z",
     "iopub.status.busy": "2022-08-14T07:54:44.084612Z",
     "iopub.status.idle": "2022-08-14T07:54:44.104415Z",
     "shell.execute_reply": "2022-08-14T07:54:44.103240Z"
    },
    "papermill": {
     "duration": 0.027751,
     "end_time": "2022-08-14T07:54:44.106682",
     "exception": false,
     "start_time": "2022-08-14T07:54:44.078931",
     "status": "completed"
    },
    "tags": []
   },
   "outputs": [
    {
     "data": {
      "text/html": [
       "<div>\n",
       "<style scoped>\n",
       "    .dataframe tbody tr th:only-of-type {\n",
       "        vertical-align: middle;\n",
       "    }\n",
       "\n",
       "    .dataframe tbody tr th {\n",
       "        vertical-align: top;\n",
       "    }\n",
       "\n",
       "    .dataframe thead th {\n",
       "        text-align: right;\n",
       "    }\n",
       "</style>\n",
       "<table border=\"1\" class=\"dataframe\">\n",
       "  <thead>\n",
       "    <tr style=\"text-align: right;\">\n",
       "      <th></th>\n",
       "      <th>x</th>\n",
       "      <th>y</th>\n",
       "    </tr>\n",
       "  </thead>\n",
       "  <tbody>\n",
       "    <tr>\n",
       "      <th>0</th>\n",
       "      <td>24.0</td>\n",
       "      <td>21.549452</td>\n",
       "    </tr>\n",
       "    <tr>\n",
       "      <th>1</th>\n",
       "      <td>50.0</td>\n",
       "      <td>47.464463</td>\n",
       "    </tr>\n",
       "    <tr>\n",
       "      <th>2</th>\n",
       "      <td>15.0</td>\n",
       "      <td>17.218656</td>\n",
       "    </tr>\n",
       "    <tr>\n",
       "      <th>3</th>\n",
       "      <td>38.0</td>\n",
       "      <td>36.586398</td>\n",
       "    </tr>\n",
       "    <tr>\n",
       "      <th>4</th>\n",
       "      <td>87.0</td>\n",
       "      <td>87.288984</td>\n",
       "    </tr>\n",
       "  </tbody>\n",
       "</table>\n",
       "</div>"
      ],
      "text/plain": [
       "      x          y\n",
       "0  24.0  21.549452\n",
       "1  50.0  47.464463\n",
       "2  15.0  17.218656\n",
       "3  38.0  36.586398\n",
       "4  87.0  87.288984"
      ]
     },
     "execution_count": 3,
     "metadata": {},
     "output_type": "execute_result"
    }
   ],
   "source": [
    "raw_df.head()"
   ]
  },
  {
   "cell_type": "code",
   "execution_count": 4,
   "id": "97be3deb",
   "metadata": {
    "execution": {
     "iopub.execute_input": "2022-08-14T07:54:44.118594Z",
     "iopub.status.busy": "2022-08-14T07:54:44.117692Z",
     "iopub.status.idle": "2022-08-14T07:54:45.193287Z",
     "shell.execute_reply": "2022-08-14T07:54:45.192001Z"
    },
    "papermill": {
     "duration": 1.084202,
     "end_time": "2022-08-14T07:54:45.195954",
     "exception": false,
     "start_time": "2022-08-14T07:54:44.111752",
     "status": "completed"
    },
    "tags": []
   },
   "outputs": [],
   "source": [
    "import seaborn as sns"
   ]
  },
  {
   "cell_type": "code",
   "execution_count": 5,
   "id": "0b2fcb42",
   "metadata": {
    "execution": {
     "iopub.execute_input": "2022-08-14T07:54:45.207688Z",
     "iopub.status.busy": "2022-08-14T07:54:45.207052Z",
     "iopub.status.idle": "2022-08-14T07:54:45.456350Z",
     "shell.execute_reply": "2022-08-14T07:54:45.455261Z"
    },
    "papermill": {
     "duration": 0.257756,
     "end_time": "2022-08-14T07:54:45.458846",
     "exception": false,
     "start_time": "2022-08-14T07:54:45.201090",
     "status": "completed"
    },
    "tags": []
   },
   "outputs": [
    {
     "name": "stderr",
     "output_type": "stream",
     "text": [
      "/opt/conda/lib/python3.7/site-packages/seaborn/_decorators.py:43: FutureWarning: Pass the following variables as keyword args: x, y. From version 0.12, the only valid positional argument will be `data`, and passing other arguments without an explicit keyword will result in an error or misinterpretation.\n",
      "  FutureWarning\n"
     ]
    },
    {
     "data": {
      "text/plain": [
       "<AxesSubplot:xlabel='x', ylabel='y'>"
      ]
     },
     "execution_count": 5,
     "metadata": {},
     "output_type": "execute_result"
    },
    {
     "data": {
      "image/png": "[encoded data removed]",
      "text/plain": [
       "<Figure size 432x288 with 1 Axes>"
      ]
     },
     "metadata": {
      "needs_background": "light"
     },
     "output_type": "display_data"
    }
   ],
   "source": [
    "sns.scatterplot(raw_df['x'], raw_df['y'])"
   ]
  },
  {
   "cell_type": "code",
   "execution_count": 6,
   "id": "325d2717",
   "metadata": {
    "execution": {
     "iopub.execute_input": "2022-08-14T07:54:45.472145Z",
     "iopub.status.busy": "2022-08-14T07:54:45.471391Z",
     "iopub.status.idle": "2022-08-14T07:54:45.488021Z",
     "shell.execute_reply": "2022-08-14T07:54:45.486941Z"
    },
    "papermill": {
     "duration": 0.026148,
     "end_time": "2022-08-14T07:54:45.490718",
     "exception": false,
     "start_time": "2022-08-14T07:54:45.464570",
     "status": "completed"
    },
    "tags": []
   },
   "outputs": [
    {
     "name": "stdout",
     "output_type": "stream",
     "text": [
      "<class 'pandas.core.frame.DataFrame'>\n",
      "RangeIndex: 700 entries, 0 to 699\n",
      "Data columns (total 2 columns):\n",
      " #   Column  Non-Null Count  Dtype  \n",
      "---  ------  --------------  -----  \n",
      " 0   x       700 non-null    float64\n",
      " 1   y       699 non-null    float64\n",
      "dtypes: float64(2)\n",
      "memory usage: 11.1 KB\n"
     ]
    }
   ],
   "source": [
    "raw_df.info()"
   ]
  },
  {
   "cell_type": "code",
   "execution_count": 7,
   "id": "70cbc0f4",
   "metadata": {
    "execution": {
     "iopub.execute_input": "2022-08-14T07:54:45.503623Z",
     "iopub.status.busy": "2022-08-14T07:54:45.503259Z",
     "iopub.status.idle": "2022-08-14T07:54:45.512629Z",
     "shell.execute_reply": "2022-08-14T07:54:45.511484Z"
    },
    "papermill": {
     "duration": 0.018314,
     "end_time": "2022-08-14T07:54:45.514886",
     "exception": false,
     "start_time": "2022-08-14T07:54:45.496572",
     "status": "completed"
    },
    "tags": []
   },
   "outputs": [
    {
     "data": {
      "text/plain": [
       "x    0\n",
       "y    1\n",
       "dtype: int64"
      ]
     },
     "execution_count": 7,
     "metadata": {},
     "output_type": "execute_result"
    }
   ],
   "source": [
    "raw_df.isna().sum()"
   ]
  },
  {
   "cell_type": "code",
   "execution_count": 8,
   "id": "804c82bc",
   "metadata": {
    "execution": {
     "iopub.execute_input": "2022-08-14T07:54:45.527820Z",
     "iopub.status.busy": "2022-08-14T07:54:45.527469Z",
     "iopub.status.idle": "2022-08-14T07:54:45.533378Z",
     "shell.execute_reply": "2022-08-14T07:54:45.532538Z"
    },
    "papermill": {
     "duration": 0.014673,
     "end_time": "2022-08-14T07:54:45.535309",
     "exception": false,
     "start_time": "2022-08-14T07:54:45.520636",
     "status": "completed"
    },
    "tags": []
   },
   "outputs": [],
   "source": [
    "raw_df['y'] = raw_df['y'].fillna(raw_df['y'].mean())"
   ]
  },
  {
   "cell_type": "code",
   "execution_count": 9,
   "id": "a4381d0a",
   "metadata": {
    "execution": {
     "iopub.execute_input": "2022-08-14T07:54:45.547830Z",
     "iopub.status.busy": "2022-08-14T07:54:45.547436Z",
     "iopub.status.idle": "2022-08-14T07:54:45.554316Z",
     "shell.execute_reply": "2022-08-14T07:54:45.553100Z"
    },
    "papermill": {
     "duration": 0.015435,
     "end_time": "2022-08-14T07:54:45.556369",
     "exception": false,
     "start_time": "2022-08-14T07:54:45.540934",
     "status": "completed"
    },
    "tags": []
   },
   "outputs": [],
   "source": [
    "raw_df['x'] = raw_df['x']/max(raw_df['x'])\n",
    "raw_df['y'] = raw_df['y']/max(raw_df['y'])"
   ]
  },
  {
   "cell_type": "code",
   "execution_count": 10,
   "id": "bb6442c7",
   "metadata": {
    "execution": {
     "iopub.execute_input": "2022-08-14T07:54:45.569712Z",
     "iopub.status.busy": "2022-08-14T07:54:45.569198Z",
     "iopub.status.idle": "2022-08-14T07:54:45.583865Z",
     "shell.execute_reply": "2022-08-14T07:54:45.582573Z"
    },
    "papermill": {
     "duration": 0.02416,
     "end_time": "2022-08-14T07:54:45.586100",
     "exception": false,
     "start_time": "2022-08-14T07:54:45.561940",
     "status": "completed"
    },
    "tags": []
   },
   "outputs": [
    {
     "data": {
      "text/html": [
       "<div>\n",
       "<style scoped>\n",
       "    .dataframe tbody tr th:only-of-type {\n",
       "        vertical-align: middle;\n",
       "    }\n",
       "\n",
       "    .dataframe tbody tr th {\n",
       "        vertical-align: top;\n",
       "    }\n",
       "\n",
       "    .dataframe thead th {\n",
       "        text-align: right;\n",
       "    }\n",
       "</style>\n",
       "<table border=\"1\" class=\"dataframe\">\n",
       "  <thead>\n",
       "    <tr style=\"text-align: right;\">\n",
       "      <th></th>\n",
       "      <th>x</th>\n",
       "      <th>y</th>\n",
       "    </tr>\n",
       "  </thead>\n",
       "  <tbody>\n",
       "    <tr>\n",
       "      <th>0</th>\n",
       "      <td>0.006799</td>\n",
       "      <td>0.197935</td>\n",
       "    </tr>\n",
       "    <tr>\n",
       "      <th>1</th>\n",
       "      <td>0.014164</td>\n",
       "      <td>0.435967</td>\n",
       "    </tr>\n",
       "    <tr>\n",
       "      <th>2</th>\n",
       "      <td>0.004249</td>\n",
       "      <td>0.158156</td>\n",
       "    </tr>\n",
       "    <tr>\n",
       "      <th>3</th>\n",
       "      <td>0.010764</td>\n",
       "      <td>0.336051</td>\n",
       "    </tr>\n",
       "    <tr>\n",
       "      <th>4</th>\n",
       "      <td>0.024645</td>\n",
       "      <td>0.801761</td>\n",
       "    </tr>\n",
       "  </tbody>\n",
       "</table>\n",
       "</div>"
      ],
      "text/plain": [
       "          x         y\n",
       "0  0.006799  0.197935\n",
       "1  0.014164  0.435967\n",
       "2  0.004249  0.158156\n",
       "3  0.010764  0.336051\n",
       "4  0.024645  0.801761"
      ]
     },
     "execution_count": 10,
     "metadata": {},
     "output_type": "execute_result"
    }
   ],
   "source": [
    "raw_df.head()"
   ]
  },
  {
   "cell_type": "code",
   "execution_count": 11,
   "id": "92306e2c",
   "metadata": {
    "execution": {
     "iopub.execute_input": "2022-08-14T07:54:45.601676Z",
     "iopub.status.busy": "2022-08-14T07:54:45.600537Z",
     "iopub.status.idle": "2022-08-14T07:54:45.803482Z",
     "shell.execute_reply": "2022-08-14T07:54:45.802514Z"
    },
    "papermill": {
     "duration": 0.213764,
     "end_time": "2022-08-14T07:54:45.806085",
     "exception": false,
     "start_time": "2022-08-14T07:54:45.592321",
     "status": "completed"
    },
    "tags": []
   },
   "outputs": [],
   "source": [
    "from sklearn.model_selection import train_test_split"
   ]
  },
  {
   "cell_type": "code",
   "execution_count": 12,
   "id": "1a255b47",
   "metadata": {
    "execution": {
     "iopub.execute_input": "2022-08-14T07:54:45.819561Z",
     "iopub.status.busy": "2022-08-14T07:54:45.819182Z",
     "iopub.status.idle": "2022-08-14T07:54:45.825105Z",
     "shell.execute_reply": "2022-08-14T07:54:45.824114Z"
    },
    "papermill": {
     "duration": 0.015121,
     "end_time": "2022-08-14T07:54:45.827378",
     "exception": false,
     "start_time": "2022-08-14T07:54:45.812257",
     "status": "completed"
    },
    "tags": []
   },
   "outputs": [],
   "source": [
    "x = raw_df.drop('y', axis = 1)\n",
    "y = raw_df['y']"
   ]
  },
  {
   "cell_type": "code",
   "execution_count": 13,
   "id": "439cde4a",
   "metadata": {
    "execution": {
     "iopub.execute_input": "2022-08-14T07:54:45.840641Z",
     "iopub.status.busy": "2022-08-14T07:54:45.840037Z",
     "iopub.status.idle": "2022-08-14T07:54:45.846435Z",
     "shell.execute_reply": "2022-08-14T07:54:45.845389Z"
    },
    "papermill": {
     "duration": 0.015491,
     "end_time": "2022-08-14T07:54:45.848616",
     "exception": false,
     "start_time": "2022-08-14T07:54:45.833125",
     "status": "completed"
    },
    "tags": []
   },
   "outputs": [],
   "source": [
    "x_train, x_test, y_train, y_test = train_test_split(x, y, test_size = 0.2)"
   ]
  },
  {
   "cell_type": "code",
   "execution_count": 14,
   "id": "7d4d0486",
   "metadata": {
    "execution": {
     "iopub.execute_input": "2022-08-14T07:54:45.862056Z",
     "iopub.status.busy": "2022-08-14T07:54:45.861716Z",
     "iopub.status.idle": "2022-08-14T07:54:45.937606Z",
     "shell.execute_reply": "2022-08-14T07:54:45.936440Z"
    },
    "papermill": {
     "duration": 0.085753,
     "end_time": "2022-08-14T07:54:45.940287",
     "exception": false,
     "start_time": "2022-08-14T07:54:45.854534",
     "status": "completed"
    },
    "tags": []
   },
   "outputs": [],
   "source": [
    "from sklearn.linear_model import LinearRegression"
   ]
  },
  {
   "cell_type": "code",
   "execution_count": 15,
   "id": "923a80c4",
   "metadata": {
    "execution": {
     "iopub.execute_input": "2022-08-14T07:54:45.953907Z",
     "iopub.status.busy": "2022-08-14T07:54:45.953402Z",
     "iopub.status.idle": "2022-08-14T07:54:45.958065Z",
     "shell.execute_reply": "2022-08-14T07:54:45.957065Z"
    },
    "papermill": {
     "duration": 0.01388,
     "end_time": "2022-08-14T07:54:45.960234",
     "exception": false,
     "start_time": "2022-08-14T07:54:45.946354",
     "status": "completed"
    },
    "tags": []
   },
   "outputs": [],
   "source": [
    "model = LinearRegression()"
   ]
  },
  {
   "cell_type": "code",
   "execution_count": 16,
   "id": "14e79515",
   "metadata": {
    "execution": {
     "iopub.execute_input": "2022-08-14T07:54:45.973643Z",
     "iopub.status.busy": "2022-08-14T07:54:45.972931Z",
     "iopub.status.idle": "2022-08-14T07:54:45.995851Z",
     "shell.execute_reply": "2022-08-14T07:54:45.994865Z"
    },
    "papermill": {
     "duration": 0.032212,
     "end_time": "2022-08-14T07:54:45.998124",
     "exception": false,
     "start_time": "2022-08-14T07:54:45.965912",
     "status": "completed"
    },
    "tags": []
   },
   "outputs": [
    {
     "data": {
      "text/plain": [
       "LinearRegression()"
      ]
     },
     "execution_count": 16,
     "metadata": {},
     "output_type": "execute_result"
    }
   ],
   "source": [
    "model.fit(x_train, y_train)"
   ]
  },
  {
   "cell_type": "code",
   "execution_count": 17,
   "id": "f6dc80dc",
   "metadata": {
    "execution": {
     "iopub.execute_input": "2022-08-14T07:54:46.011389Z",
     "iopub.status.busy": "2022-08-14T07:54:46.011051Z",
     "iopub.status.idle": "2022-08-14T07:54:46.019411Z",
     "shell.execute_reply": "2022-08-14T07:54:46.018347Z"
    },
    "papermill": {
     "duration": 0.0177,
     "end_time": "2022-08-14T07:54:46.021675",
     "exception": false,
     "start_time": "2022-08-14T07:54:46.003975",
     "status": "completed"
    },
    "tags": []
   },
   "outputs": [
    {
     "data": {
      "text/plain": [
       "-92.09945194748343"
      ]
     },
     "execution_count": 17,
     "metadata": {},
     "output_type": "execute_result"
    }
   ],
   "source": [
    "model.score(x_test, y_test)"
   ]
  },
  {
   "cell_type": "code",
   "execution_count": null,
   "id": "6a7d932a",
   "metadata": {
    "papermill": {
     "duration": 0.005464,
     "end_time": "2022-08-14T07:54:46.033640",
     "exception": false,
     "start_time": "2022-08-14T07:54:46.028176",
     "status": "completed"
    },
    "tags": []
   },
   "outputs": [],
   "source": []
  }
 ],
 "metadata": {
  "kernelspec": {
   "display_name": "Python 3",
   "language": "python",
   "name": "python3"
  },
  "language_info": {
   "codemirror_mode": {
    "name": "ipython",
    "version": 3
   },
   "file_extension": ".py",
   "mimetype": "text/x-python",
   "name": "python",
   "nbconvert_exporter": "python",
   "pygments_lexer": "ipython3",
   "version": "3.7.12"
  },
  "papermill": {
   "default_parameters": {},
   "duration": 11.599494,
   "end_time": "2022-08-14T07:54:46.759637",
   "environment_variables": {},
   "exception": null,
   "input_path": "__notebook__.ipynb",
   "output_path": "__notebook__.ipynb",
   "parameters": {},
   "start_time": "2022-08-14T07:54:35.160143",
   "version": "2.3.4"
  }
 },
 "nbformat": 4,
 "nbformat_minor": 5
}
